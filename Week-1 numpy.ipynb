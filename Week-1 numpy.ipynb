{
  "cells": [
    {
      "cell_type": "code",
      "source": [
        "import numpy as np\n",
        "A=np.arange(9)\n",
        "B=A.reshape(3,3)\n",
        "print(B)"
      ],
      "outputs": [
        {
          "output_type": "stream",
          "name": "stdout",
          "text": "[[0 1 2]\n [3 4 5]\n [6 7 8]]\n"
        }
      ],
      "execution_count": 1,
      "metadata": {},
      "id": "072099c5"
    },
    {
      "cell_type": "code",
      "source": [
        "\n",
        "for i in A:\n",
        "\tif(i%2==0):\n",
        "\t\tcontinue\n",
        "\telse:\n",
        "\t\tA[i]=-1\n",
        "print(A)\n"
      ],
      "outputs": [
        {
          "output_type": "stream",
          "name": "stdout",
          "text": "[ 0 -1  2 -1  4 -1  6 -1  8]\n"
        }
      ],
      "execution_count": 2,
      "metadata": {},
      "id": "5c8f639e"
    },
    {
      "cell_type": "code",
      "source": [
        "x=np.array([21, 64, 86, 22, 74, 55, 81, 79, 90, 89])\n",
        "y=np.array([21, 7, 3, 45, 10, 29, 55, 4, 37, 18])\n",
        "\n",
        "\n",
        "print(np.where(x>y))\n",
        "print(np.where(x==y))\n"
      ],
      "outputs": [
        {
          "output_type": "stream",
          "name": "stdout",
          "text": "(array([1, 2, 4, 5, 6, 7, 8, 9]),)\n(array([0]),)\n"
        }
      ],
      "execution_count": 3,
      "metadata": {},
      "id": "bffc7516"
    },
    {
      "cell_type": "code",
      "source": [
        "z= np.arange(100).reshape(5,-1)\n",
        "print(z)\n",
        "print(z[:,[0,1,2,3]])"
      ],
      "outputs": [
        {
          "output_type": "stream",
          "name": "stdout",
          "text": "[[ 0  1  2  3  4  5  6  7  8  9 10 11 12 13 14 15 16 17 18 19]\n [20 21 22 23 24 25 26 27 28 29 30 31 32 33 34 35 36 37 38 39]\n [40 41 42 43 44 45 46 47 48 49 50 51 52 53 54 55 56 57 58 59]\n [60 61 62 63 64 65 66 67 68 69 70 71 72 73 74 75 76 77 78 79]\n [80 81 82 83 84 85 86 87 88 89 90 91 92 93 94 95 96 97 98 99]]\n[[ 0  1  2  3]\n [20 21 22 23]\n [40 41 42 43]\n [60 61 62 63]\n [80 81 82 83]]\n"
        }
      ],
      "execution_count": 4,
      "metadata": {},
      "id": "f2f87cf6"
    },
    {
      "cell_type": "code",
      "source": [
        "\n",
        "# arr= np.linspace(30,40,10, dtype=np.int32)\n",
        "arr= np.random.randint(low=30, high=40, size=10)\n",
        "print(arr)"
      ],
      "outputs": [
        {
          "output_type": "stream",
          "name": "stdout",
          "text": "[37 32 35 30 32 37 30 30 34 39]\n"
        }
      ],
      "execution_count": 6,
      "metadata": {},
      "id": "d0be3985"
    },
    {
      "cell_type": "code",
      "source": [
        "A=np.array([(1,2,3),(4,5,6),(7,8,10)])\n",
        "B=np.array([(7,8,10),(4,5,6),(1,2,3)])"
      ],
      "outputs": [],
      "execution_count": 7,
      "metadata": {},
      "id": "1249b4cf"
    },
    {
      "cell_type": "code",
      "source": [
        "C=A+B\n",
        "print(C)"
      ],
      "outputs": [
        {
          "output_type": "stream",
          "name": "stdout",
          "text": "[[ 8 10 13]\n [ 8 10 12]\n [ 8 10 13]]\n"
        }
      ],
      "execution_count": 8,
      "metadata": {},
      "id": "5782ce0a"
    },
    {
      "cell_type": "code",
      "source": [
        "E=A-B\n",
        "print(E)"
      ],
      "outputs": [
        {
          "output_type": "stream",
          "name": "stdout",
          "text": "[[-6 -6 -7]\n [ 0  0  0]\n [ 6  6  7]]\n"
        }
      ],
      "execution_count": 9,
      "metadata": {},
      "id": "7b20a318"
    },
    {
      "cell_type": "code",
      "source": [
        "print(np.sum(A))"
      ],
      "outputs": [
        {
          "output_type": "stream",
          "name": "stdout",
          "text": "46\n"
        }
      ],
      "execution_count": 10,
      "metadata": {},
      "id": "5b35f2b6"
    },
    {
      "cell_type": "code",
      "source": [
        "print(np.sum(B,axis=0))"
      ],
      "outputs": [
        {
          "output_type": "stream",
          "name": "stdout",
          "text": "[12 15 19]\n"
        }
      ],
      "execution_count": 11,
      "metadata": {},
      "id": "8ed9ce79"
    },
    {
      "cell_type": "code",
      "source": [
        "print(np.sum(C,axis=1))"
      ],
      "outputs": [
        {
          "output_type": "stream",
          "name": "stdout",
          "text": "[31 30 31]\n"
        }
      ],
      "execution_count": 12,
      "metadata": {},
      "id": "e7499de5"
    },
    {
      "cell_type": "code",
      "source": [
        "D=A.dot(B)\n",
        "print(D)"
      ],
      "outputs": [
        {
          "output_type": "stream",
          "name": "stdout",
          "text": "[[ 18  24  31]\n [ 54  69  88]\n [ 91 116 148]]\n"
        }
      ],
      "execution_count": 13,
      "metadata": {},
      "id": "384d850a"
    },
    {
      "cell_type": "code",
      "source": [
        "C.sort()\n",
        "print(C)"
      ],
      "outputs": [
        {
          "output_type": "stream",
          "name": "stdout",
          "text": "[[ 8 10 13]\n [ 8 10 12]\n [ 8 10 13]]\n"
        }
      ],
      "execution_count": 14,
      "metadata": {},
      "id": "ccea27ba"
    },
    {
      "cell_type": "code",
      "source": [
        "print(E.transpose())"
      ],
      "outputs": [
        {
          "output_type": "stream",
          "name": "stdout",
          "text": "[[-6  0  6]\n [-6  0  6]\n [-7  0  7]]\n"
        }
      ],
      "execution_count": 15,
      "metadata": {},
      "id": "ddb8581e"
    },
    {
      "cell_type": "code",
      "source": [],
      "outputs": [],
      "execution_count": null,
      "metadata": {},
      "id": "d0d1d3e1"
    }
  ],
  "metadata": {
    "kernelspec": {
      "display_name": "Python 3 (ipykernel)",
      "language": "python",
      "name": "python3"
    },
    "language_info": {
      "codemirror_mode": {
        "name": "ipython",
        "version": 3
      },
      "file_extension": ".py",
      "mimetype": "text/x-python",
      "name": "python",
      "nbconvert_exporter": "python",
      "pygments_lexer": "ipython3",
      "version": "3.12.3"
    },
    "nteract": {
      "version": "nteract-front-end@1.0.0"
    }
  },
  "nbformat": 4,
  "nbformat_minor": 5
}